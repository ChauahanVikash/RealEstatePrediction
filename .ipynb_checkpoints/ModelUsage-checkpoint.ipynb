{
 "cells": [
  {
   "cell_type": "code",
   "execution_count": 3,
   "id": "44104fdb",
   "metadata": {},
   "outputs": [],
   "source": [
    "from joblib import dump , load \n",
    "import numpy as np "
   ]
  },
  {
   "cell_type": "code",
   "execution_count": 4,
   "id": "b84c7165",
   "metadata": {},
   "outputs": [],
   "source": [
    "model = load('RealState.joblib')"
   ]
  },
  {
   "cell_type": "code",
   "execution_count": 5,
   "id": "88c0d421",
   "metadata": {},
   "outputs": [],
   "source": [
    "input = np.array([[-0.43942006,  3.12628155, -1.12165014, -0.27288841, -1.42262747,\n",
    "       -0.23979304, -1.31238772,  2.61111401, -1.0016859 , -0.5778192 ,\n",
    "       -0.97491834,  0.41164221, -0.86091034]])"
   ]
  },
  {
   "cell_type": "code",
   "execution_count": 6,
   "id": "3435a532",
   "metadata": {},
   "outputs": [
    {
     "data": {
      "text/plain": [
       "array([22.417])"
      ]
     },
     "execution_count": 6,
     "metadata": {},
     "output_type": "execute_result"
    }
   ],
   "source": [
    "model.predict(input)"
   ]
  },
  {
   "cell_type": "code",
   "execution_count": null,
   "id": "1d0a7258",
   "metadata": {},
   "outputs": [],
   "source": []
  }
 ],
 "metadata": {
  "kernelspec": {
   "display_name": "Python 3",
   "language": "python",
   "name": "python3"
  },
  "language_info": {
   "codemirror_mode": {
    "name": "ipython",
    "version": 3
   },
   "file_extension": ".py",
   "mimetype": "text/x-python",
   "name": "python",
   "nbconvert_exporter": "python",
   "pygments_lexer": "ipython3",
   "version": "3.8.10"
  }
 },
 "nbformat": 4,
 "nbformat_minor": 5
}
